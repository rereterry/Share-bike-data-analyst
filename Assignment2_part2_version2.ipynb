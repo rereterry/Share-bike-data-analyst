{
 "cells": [
  {
   "cell_type": "code",
   "execution_count": 1,
   "metadata": {},
   "outputs": [
    {
     "name": "stderr",
     "output_type": "stream",
     "text": [
      "/Users/pipiterry/anaconda/lib/python2.7/site-packages/sklearn/cross_validation.py:44: DeprecationWarning: This module was deprecated in version 0.18 in favor of the model_selection module into which all the refactored classes and functions are moved. Also note that the interface of the new CV iterators are different from that of this module. This module will be removed in 0.20.\n",
      "  \"This module will be removed in 0.20.\", DeprecationWarning)\n",
      "/Users/pipiterry/anaconda/lib/python2.7/site-packages/statsmodels/compat/pandas.py:56: FutureWarning: The pandas.core.datetools module is deprecated and will be removed in a future version. Please use the pandas.tseries module instead.\n",
      "  from pandas.core import datetools\n"
     ]
    }
   ],
   "source": [
    "%matplotlib inline \n",
    "import matplotlib.pyplot as plt\n",
    "import numpy as np\n",
    "import pandas as pd\n",
    "from scipy import stats\n",
    "import seaborn as sns\n",
    "import warnings\n",
    "import random\n",
    "from sklearn.cross_validation import KFold, cross_val_score, train_test_split\n",
    "from sklearn import metrics\n",
    "import statsmodels.api as sm\n",
    "import scipy.stats as stats \n",
    "from sklearn.linear_model import LogisticRegression , LinearRegression\n",
    "\n",
    "from datetime import datetime\n",
    "random.seed(datetime.now())\n",
    "warnings.filterwarnings('ignore')\n",
    "\n",
    "# Make plots larger\n",
    "plt.rcParams['figure.figsize'] = (10, 6)"
   ]
  },
  {
   "cell_type": "code",
   "execution_count": 2,
   "metadata": {},
   "outputs": [
    {
     "name": "stdout",
     "output_type": "stream",
     "text": [
      "      age            job   marital            education  default  housing  \\\n",
      "0      52         admin.    single    university.degree  unknown  unknown   \n",
      "1      49    blue-collar  divorced          high.school       no       no   \n",
      "2      25    blue-collar    single             basic.9y       no      yes   \n",
      "3      27         admin.    single    university.degree       no       no   \n",
      "4      44         admin.   married    university.degree       no      yes   \n",
      "5      31    blue-collar   married             basic.4y       no       no   \n",
      "6      51    blue-collar  divorced             basic.9y       no      yes   \n",
      "7      41    blue-collar   married             basic.6y       no       no   \n",
      "8      59        retired   married    university.degree       no      yes   \n",
      "9      34     technician   married             basic.9y       no       no   \n",
      "10     57        retired   married             basic.9y  unknown      yes   \n",
      "11     39         admin.    single          high.school       no       no   \n",
      "12     43    blue-collar    single             basic.9y       no       no   \n",
      "13     49      housemaid   married  professional.course       no       no   \n",
      "14     26         admin.   married          high.school       no       no   \n",
      "15     38    blue-collar  divorced          high.school       no       no   \n",
      "16     48         admin.   married             basic.9y       no      yes   \n",
      "17     30         admin.   married    university.degree       no       no   \n",
      "18     36         admin.   married    university.degree       no      yes   \n",
      "19     54        retired   married             basic.9y       no       no   \n",
      "20     58        unknown   married             basic.4y       no      yes   \n",
      "21     33     technician    single    university.degree       no       no   \n",
      "22     33  self-employed   married    university.degree       no      yes   \n",
      "23     33     management   married             basic.9y  unknown       no   \n",
      "24     33   entrepreneur    single  professional.course       no      yes   \n",
      "25     49   entrepreneur   married    university.degree       no      yes   \n",
      "26     50       services   married    university.degree  unknown       no   \n",
      "27     31    blue-collar    single             basic.9y  unknown      yes   \n",
      "28     55      housemaid   married    university.degree       no      yes   \n",
      "29     33         admin.   married    university.degree       no      yes   \n",
      "...   ...            ...       ...                  ...      ...      ...   \n",
      "4970   48    blue-collar   married             basic.9y       no       no   \n",
      "4971   59     technician   married  professional.course       no       no   \n",
      "4972   37         admin.    single          high.school       no       no   \n",
      "4973   35    blue-collar   married          high.school       no       no   \n",
      "4974   32     technician    single          high.school       no       no   \n",
      "4975   59       services   married             basic.4y  unknown       no   \n",
      "4976   26         admin.    single          high.school       no       no   \n",
      "4977   27         admin.    single    university.degree       no       no   \n",
      "4978   47    blue-collar   married             basic.9y       no      yes   \n",
      "4979   47    blue-collar  divorced             basic.4y       no      yes   \n",
      "4980   46         admin.   married          high.school       no       no   \n",
      "4981   46         admin.   married          high.school  unknown      yes   \n",
      "4982   73        retired  divorced          high.school       no      yes   \n",
      "4983   33         admin.   married    university.degree       no      yes   \n",
      "4984   34        unknown   married             basic.4y       no       no   \n",
      "4985   46    blue-collar   married  professional.course  unknown       no   \n",
      "4986   31    blue-collar   married             basic.4y  unknown      yes   \n",
      "4987   71        retired   married             basic.4y       no      yes   \n",
      "4988   31     management    single    university.degree       no      yes   \n",
      "4989   51    blue-collar   married             basic.9y       no      yes   \n",
      "4990   38     technician    single             basic.6y       no       no   \n",
      "4991   28     management    single    university.degree       no       no   \n",
      "4992   34      housemaid   married          high.school  unknown       no   \n",
      "4993   56      housemaid  divorced             basic.4y  unknown       no   \n",
      "4994   27    blue-collar    single             basic.6y       no  unknown   \n",
      "4995   37     technician  divorced  professional.course       no      yes   \n",
      "4996   39    blue-collar  divorced          high.school       no      yes   \n",
      "4997   28       services    single  professional.course       no       no   \n",
      "4998   32         admin.    single    university.degree  unknown       no   \n",
      "4999   33       services   married          high.school       no       no   \n",
      "\n",
      "         loan    contact month day_of_week ...  campaign  pdays  previous  \\\n",
      "0     unknown   cellular   aug         wed ...         3    999         0   \n",
      "1         yes  telephone   may         mon ...         2    999         0   \n",
      "2         yes   cellular   jul         wed ...         2    999         0   \n",
      "3          no  telephone   oct         tue ...         1    999         0   \n",
      "4          no   cellular   aug         wed ...         1    999         0   \n",
      "5          no  telephone   jul         thu ...         2    999         0   \n",
      "6          no   cellular   jul         tue ...         1    999         0   \n",
      "7          no  telephone   may         tue ...         1    999         0   \n",
      "8          no   cellular   aug         wed ...         3    999         0   \n",
      "9          no   cellular   nov         tue ...         1    999         0   \n",
      "10         no   cellular   aug         fri ...         6    999         0   \n",
      "11        yes   cellular   aug         thu ...         2    999         0   \n",
      "12         no  telephone   jul         thu ...         4    999         0   \n",
      "13         no  telephone   may         thu ...         1    999         0   \n",
      "14         no   cellular   jul         thu ...         2    999         0   \n",
      "15         no   cellular   may         thu ...         1    999         0   \n",
      "16        yes   cellular   nov         fri ...         3    999         0   \n",
      "17         no  telephone   may         thu ...         7    999         0   \n",
      "18         no   cellular   jul         wed ...         2    999         0   \n",
      "19        yes  telephone   may         mon ...         1    999         0   \n",
      "20         no   cellular   aug         tue ...        10    999         0   \n",
      "21         no  telephone   may         wed ...         1    999         0   \n",
      "22         no  telephone   jun         thu ...         1    999         0   \n",
      "23         no  telephone   may         fri ...         1    999         0   \n",
      "24         no   cellular   mar         fri ...         1    999         0   \n",
      "25         no  telephone   nov         mon ...         1    999         0   \n",
      "26         no   cellular   may         tue ...         1    999         0   \n",
      "27        yes   cellular   may         wed ...         2    999         0   \n",
      "28         no  telephone   jun         tue ...         3    999         0   \n",
      "29         no   cellular   nov         tue ...         2      3         3   \n",
      "...       ...        ...   ...         ... ...       ...    ...       ...   \n",
      "4970       no   cellular   jul         mon ...         3    999         0   \n",
      "4971       no   cellular   jun         thu ...         4    999         1   \n",
      "4972       no  telephone   jul         thu ...         4    999         3   \n",
      "4973       no   cellular   may         tue ...         2    999         0   \n",
      "4974       no   cellular   aug         tue ...        10    999         0   \n",
      "4975       no   cellular   aug         thu ...         7    999         0   \n",
      "4976       no  telephone   may         wed ...         2    999         0   \n",
      "4977       no   cellular   jul         tue ...         1    999         0   \n",
      "4978       no  telephone   jun         mon ...         1    999         0   \n",
      "4979       no   cellular   aug         mon ...         3    999         0   \n",
      "4980       no  telephone   aug         wed ...         2    999         0   \n",
      "4981       no  telephone   jun         mon ...         6    999         0   \n",
      "4982       no   cellular   dec         tue ...         1    999         0   \n",
      "4983       no  telephone   jul         fri ...         4    999         0   \n",
      "4984       no  telephone   apr         mon ...         3    999         0   \n",
      "4985       no  telephone   jun         wed ...         1    999         0   \n",
      "4986       no   cellular   jul         wed ...         1    999         0   \n",
      "4987       no  telephone   sep         thu ...         1    999         0   \n",
      "4988       no  telephone   may         wed ...         1    999         0   \n",
      "4989       no   cellular   nov         wed ...         2    999         1   \n",
      "4990       no   cellular   nov         wed ...         1    999         0   \n",
      "4991       no  telephone   jun         thu ...         5    999         0   \n",
      "4992       no   cellular   may         wed ...         5    999         1   \n",
      "4993       no  telephone   may         mon ...         1    999         0   \n",
      "4994  unknown  telephone   may         mon ...         1    999         0   \n",
      "4995       no   cellular   aug         tue ...         2    999         0   \n",
      "4996      yes  telephone   may         tue ...         3    999         0   \n",
      "4997       no  telephone   may         thu ...         2    999         0   \n",
      "4998       no   cellular   aug         tue ...         5    999         0   \n",
      "4999       no  telephone   nov         tue ...         1    999         0   \n",
      "\n",
      "         poutcome emp.var.rate  cons.price.idx  cons.conf.idx  euribor3m  \\\n",
      "0     nonexistent          1.4          93.444          -36.1      4.964   \n",
      "1     nonexistent          1.1          93.994          -36.4      4.857   \n",
      "2     nonexistent          1.4          93.918          -42.7      4.963   \n",
      "3     nonexistent         -0.1          93.798          -40.4      4.860   \n",
      "4     nonexistent         -2.9          92.201          -31.4      0.879   \n",
      "5     nonexistent          1.4          93.918          -42.7      4.963   \n",
      "6     nonexistent          1.4          93.918          -42.7      4.961   \n",
      "7     nonexistent          1.1          93.994          -36.4      4.856   \n",
      "8     nonexistent          1.4          93.444          -36.1      4.964   \n",
      "9     nonexistent         -0.1          93.200          -42.0      4.153   \n",
      "10    nonexistent          1.4          93.444          -36.1      4.966   \n",
      "11    nonexistent          1.4          93.444          -36.1      4.968   \n",
      "12    nonexistent          1.4          93.918          -42.7      4.962   \n",
      "13    nonexistent          1.1          93.994          -36.4      4.860   \n",
      "14    nonexistent          1.4          93.918          -42.7      4.962   \n",
      "15    nonexistent         -1.8          92.893          -46.2      1.327   \n",
      "16    nonexistent         -0.1          93.200          -42.0      4.021   \n",
      "17    nonexistent         -1.8          92.893          -46.2      1.266   \n",
      "18    nonexistent          1.4          93.918          -42.7      4.962   \n",
      "19    nonexistent          1.1          93.994          -36.4      4.857   \n",
      "20    nonexistent          1.4          93.444          -36.1      4.963   \n",
      "21    nonexistent          1.1          93.994          -36.4      4.858   \n",
      "22    nonexistent          1.4          94.465          -41.8      4.866   \n",
      "23    nonexistent          1.1          93.994          -36.4      4.864   \n",
      "24    nonexistent         -1.8          93.369          -34.8      0.653   \n",
      "25    nonexistent         -0.1          93.200          -42.0      4.191   \n",
      "26    nonexistent         -1.8          92.893          -46.2      1.291   \n",
      "27    nonexistent         -1.8          92.893          -46.2      1.334   \n",
      "28    nonexistent          1.4          94.465          -41.8      4.961   \n",
      "29        success         -3.4          92.649          -30.1      0.715   \n",
      "...           ...          ...             ...            ...        ...   \n",
      "4970  nonexistent          1.4          93.918          -42.7      4.960   \n",
      "4971      failure         -1.7          94.055          -39.8      0.742   \n",
      "4972      failure         -1.7          94.215          -40.3      0.782   \n",
      "4973  nonexistent         -1.8          92.893          -46.2      1.291   \n",
      "4974  nonexistent          1.4          93.444          -36.1      4.965   \n",
      "4975  nonexistent          1.4          93.444          -36.1      4.963   \n",
      "4976  nonexistent          1.1          93.994          -36.4      4.856   \n",
      "4977  nonexistent         -2.9          92.469          -33.6      1.044   \n",
      "4978  nonexistent          1.4          94.465          -41.8      4.961   \n",
      "4979  nonexistent          1.4          93.444          -36.1      4.965   \n",
      "4980  nonexistent         -2.9          92.201          -31.4      0.884   \n",
      "4981  nonexistent          1.4          94.465          -41.8      4.961   \n",
      "4982  nonexistent         -3.0          92.713          -33.0      0.707   \n",
      "4983  nonexistent          1.4          93.918          -42.7      4.963   \n",
      "4984  nonexistent         -1.8          93.075          -47.1      1.392   \n",
      "4985  nonexistent          1.4          94.465          -41.8      4.864   \n",
      "4986  nonexistent          1.4          93.918          -42.7      4.963   \n",
      "4987  nonexistent         -3.4          92.379          -29.8      0.809   \n",
      "4988  nonexistent          1.1          93.994          -36.4      4.856   \n",
      "4989      failure         -0.1          93.200          -42.0      4.120   \n",
      "4990  nonexistent         -0.1          93.200          -42.0      4.120   \n",
      "4991  nonexistent          1.4          94.465          -41.8      4.958   \n",
      "4992      failure         -1.8          92.893          -46.2      1.334   \n",
      "4993  nonexistent          1.1          93.994          -36.4      4.857   \n",
      "4994  nonexistent          1.1          93.994          -36.4      4.857   \n",
      "4995  nonexistent          1.4          93.444          -36.1      4.965   \n",
      "4996  nonexistent          1.1          93.994          -36.4      4.856   \n",
      "4997  nonexistent         -1.8          92.893          -46.2      1.266   \n",
      "4998  nonexistent          1.4          93.444          -36.1      4.966   \n",
      "4999  nonexistent         -0.1          93.200          -42.0      4.343   \n",
      "\n",
      "      nr.employed  y  \n",
      "0          5228.1  0  \n",
      "1          5191.0  0  \n",
      "2          5228.1  0  \n",
      "3          5195.8  1  \n",
      "4          5076.2  0  \n",
      "5          5228.1  0  \n",
      "6          5228.1  0  \n",
      "7          5191.0  0  \n",
      "8          5228.1  0  \n",
      "9          5195.8  0  \n",
      "10         5228.1  0  \n",
      "11         5228.1  0  \n",
      "12         5228.1  0  \n",
      "13         5191.0  0  \n",
      "14         5228.1  0  \n",
      "15         5099.1  0  \n",
      "16         5195.8  1  \n",
      "17         5099.1  0  \n",
      "18         5228.1  1  \n",
      "19         5191.0  0  \n",
      "20         5228.1  1  \n",
      "21         5191.0  0  \n",
      "22         5228.1  0  \n",
      "23         5191.0  0  \n",
      "24         5008.7  1  \n",
      "25         5195.8  0  \n",
      "26         5099.1  0  \n",
      "27         5099.1  0  \n",
      "28         5228.1  0  \n",
      "29         5017.5  1  \n",
      "...           ... ..  \n",
      "4970       5228.1  0  \n",
      "4971       4991.6  1  \n",
      "4972       4991.6  0  \n",
      "4973       5099.1  0  \n",
      "4974       5228.1  0  \n",
      "4975       5228.1  0  \n",
      "4976       5191.0  0  \n",
      "4977       5076.2  0  \n",
      "4978       5228.1  0  \n",
      "4979       5228.1  0  \n",
      "4980       5076.2  1  \n",
      "4981       5228.1  0  \n",
      "4982       5023.5  1  \n",
      "4983       5228.1  0  \n",
      "4984       5099.1  0  \n",
      "4985       5228.1  0  \n",
      "4986       5228.1  0  \n",
      "4987       5017.5  0  \n",
      "4988       5191.0  0  \n",
      "4989       5195.8  0  \n",
      "4990       5195.8  0  \n",
      "4991       5228.1  1  \n",
      "4992       5099.1  0  \n",
      "4993       5191.0  0  \n",
      "4994       5191.0  0  \n",
      "4995       5228.1  0  \n",
      "4996       5191.0  0  \n",
      "4997       5099.1  0  \n",
      "4998       5228.1  0  \n",
      "4999       5195.8  1  \n",
      "\n",
      "[5000 rows x 21 columns]\n"
     ]
    }
   ],
   "source": [
    "import os.path\n",
    "userhome = os.path.expanduser('~')\n",
    "csvfile = os.path.join(userhome, 'Desktop', 'bank', 'bank2.csv')\n",
    "df = pd.read_csv(csvfile)\n",
    "print(df)"
   ]
  },
  {
   "cell_type": "code",
   "execution_count": 3,
   "metadata": {},
   "outputs": [
    {
     "data": {
      "text/plain": [
       "0"
      ]
     },
     "execution_count": 3,
     "metadata": {},
     "output_type": "execute_result"
    }
   ],
   "source": [
    "sum(df.isnull().values.ravel())"
   ]
  },
  {
   "cell_type": "code",
   "execution_count": 4,
   "metadata": {},
   "outputs": [
    {
     "data": {
      "text/html": [
       "<div>\n",
       "<style>\n",
       "    .dataframe thead tr:only-child th {\n",
       "        text-align: right;\n",
       "    }\n",
       "\n",
       "    .dataframe thead th {\n",
       "        text-align: left;\n",
       "    }\n",
       "\n",
       "    .dataframe tbody tr th {\n",
       "        vertical-align: top;\n",
       "    }\n",
       "</style>\n",
       "<table border=\"1\" class=\"dataframe\">\n",
       "  <thead>\n",
       "    <tr style=\"text-align: right;\">\n",
       "      <th></th>\n",
       "      <th>age</th>\n",
       "      <th>duration</th>\n",
       "      <th>campaign</th>\n",
       "      <th>pdays</th>\n",
       "      <th>previous</th>\n",
       "      <th>emp.var.rate</th>\n",
       "      <th>cons.price.idx</th>\n",
       "      <th>cons.conf.idx</th>\n",
       "      <th>euribor3m</th>\n",
       "      <th>nr.employed</th>\n",
       "      <th>y</th>\n",
       "    </tr>\n",
       "  </thead>\n",
       "  <tbody>\n",
       "    <tr>\n",
       "      <th>count</th>\n",
       "      <td>5000.000000</td>\n",
       "      <td>5000.000000</td>\n",
       "      <td>5000.00000</td>\n",
       "      <td>5000.000000</td>\n",
       "      <td>5000.000000</td>\n",
       "      <td>5000.00000</td>\n",
       "      <td>5000.000000</td>\n",
       "      <td>5000.000000</td>\n",
       "      <td>5000.000000</td>\n",
       "      <td>5000.000000</td>\n",
       "      <td>5000.000000</td>\n",
       "    </tr>\n",
       "    <tr>\n",
       "      <th>mean</th>\n",
       "      <td>39.581400</td>\n",
       "      <td>265.173400</td>\n",
       "      <td>2.53760</td>\n",
       "      <td>958.682000</td>\n",
       "      <td>0.177800</td>\n",
       "      <td>0.05834</td>\n",
       "      <td>93.569322</td>\n",
       "      <td>-40.538980</td>\n",
       "      <td>3.596636</td>\n",
       "      <td>5166.480940</td>\n",
       "      <td>0.118200</td>\n",
       "    </tr>\n",
       "    <tr>\n",
       "      <th>std</th>\n",
       "      <td>10.254112</td>\n",
       "      <td>263.436793</td>\n",
       "      <td>2.81776</td>\n",
       "      <td>196.012383</td>\n",
       "      <td>0.505013</td>\n",
       "      <td>1.58084</td>\n",
       "      <td>0.577387</td>\n",
       "      <td>4.606221</td>\n",
       "      <td>1.742869</td>\n",
       "      <td>71.908468</td>\n",
       "      <td>0.322877</td>\n",
       "    </tr>\n",
       "    <tr>\n",
       "      <th>min</th>\n",
       "      <td>17.000000</td>\n",
       "      <td>1.000000</td>\n",
       "      <td>1.00000</td>\n",
       "      <td>0.000000</td>\n",
       "      <td>0.000000</td>\n",
       "      <td>-3.40000</td>\n",
       "      <td>92.201000</td>\n",
       "      <td>-50.800000</td>\n",
       "      <td>0.634000</td>\n",
       "      <td>4963.600000</td>\n",
       "      <td>0.000000</td>\n",
       "    </tr>\n",
       "    <tr>\n",
       "      <th>25%</th>\n",
       "      <td>32.000000</td>\n",
       "      <td>105.000000</td>\n",
       "      <td>1.00000</td>\n",
       "      <td>999.000000</td>\n",
       "      <td>0.000000</td>\n",
       "      <td>-1.80000</td>\n",
       "      <td>93.075000</td>\n",
       "      <td>-42.700000</td>\n",
       "      <td>1.334000</td>\n",
       "      <td>5099.100000</td>\n",
       "      <td>0.000000</td>\n",
       "    </tr>\n",
       "    <tr>\n",
       "      <th>50%</th>\n",
       "      <td>38.000000</td>\n",
       "      <td>181.000000</td>\n",
       "      <td>2.00000</td>\n",
       "      <td>999.000000</td>\n",
       "      <td>0.000000</td>\n",
       "      <td>1.10000</td>\n",
       "      <td>93.444000</td>\n",
       "      <td>-41.800000</td>\n",
       "      <td>4.857000</td>\n",
       "      <td>5191.000000</td>\n",
       "      <td>0.000000</td>\n",
       "    </tr>\n",
       "    <tr>\n",
       "      <th>75%</th>\n",
       "      <td>46.000000</td>\n",
       "      <td>329.000000</td>\n",
       "      <td>3.00000</td>\n",
       "      <td>999.000000</td>\n",
       "      <td>0.000000</td>\n",
       "      <td>1.40000</td>\n",
       "      <td>93.994000</td>\n",
       "      <td>-36.400000</td>\n",
       "      <td>4.961000</td>\n",
       "      <td>5228.100000</td>\n",
       "      <td>0.000000</td>\n",
       "    </tr>\n",
       "    <tr>\n",
       "      <th>max</th>\n",
       "      <td>92.000000</td>\n",
       "      <td>3284.000000</td>\n",
       "      <td>56.00000</td>\n",
       "      <td>999.000000</td>\n",
       "      <td>6.000000</td>\n",
       "      <td>1.40000</td>\n",
       "      <td>94.767000</td>\n",
       "      <td>-26.900000</td>\n",
       "      <td>5.045000</td>\n",
       "      <td>5228.100000</td>\n",
       "      <td>1.000000</td>\n",
       "    </tr>\n",
       "  </tbody>\n",
       "</table>\n",
       "</div>"
      ],
      "text/plain": [
       "               age     duration    campaign        pdays     previous  \\\n",
       "count  5000.000000  5000.000000  5000.00000  5000.000000  5000.000000   \n",
       "mean     39.581400   265.173400     2.53760   958.682000     0.177800   \n",
       "std      10.254112   263.436793     2.81776   196.012383     0.505013   \n",
       "min      17.000000     1.000000     1.00000     0.000000     0.000000   \n",
       "25%      32.000000   105.000000     1.00000   999.000000     0.000000   \n",
       "50%      38.000000   181.000000     2.00000   999.000000     0.000000   \n",
       "75%      46.000000   329.000000     3.00000   999.000000     0.000000   \n",
       "max      92.000000  3284.000000    56.00000   999.000000     6.000000   \n",
       "\n",
       "       emp.var.rate  cons.price.idx  cons.conf.idx    euribor3m  nr.employed  \\\n",
       "count    5000.00000     5000.000000    5000.000000  5000.000000  5000.000000   \n",
       "mean        0.05834       93.569322     -40.538980     3.596636  5166.480940   \n",
       "std         1.58084        0.577387       4.606221     1.742869    71.908468   \n",
       "min        -3.40000       92.201000     -50.800000     0.634000  4963.600000   \n",
       "25%        -1.80000       93.075000     -42.700000     1.334000  5099.100000   \n",
       "50%         1.10000       93.444000     -41.800000     4.857000  5191.000000   \n",
       "75%         1.40000       93.994000     -36.400000     4.961000  5228.100000   \n",
       "max         1.40000       94.767000     -26.900000     5.045000  5228.100000   \n",
       "\n",
       "                 y  \n",
       "count  5000.000000  \n",
       "mean      0.118200  \n",
       "std       0.322877  \n",
       "min       0.000000  \n",
       "25%       0.000000  \n",
       "50%       0.000000  \n",
       "75%       0.000000  \n",
       "max       1.000000  "
      ]
     },
     "execution_count": 4,
     "metadata": {},
     "output_type": "execute_result"
    }
   ],
   "source": [
    "df.describe()"
   ]
  },
  {
   "cell_type": "code",
   "execution_count": 5,
   "metadata": {
    "collapsed": true
   },
   "outputs": [],
   "source": [
    "df.rename(columns={'y':'willRespond'},inplace=True)"
   ]
  },
  {
   "cell_type": "code",
   "execution_count": 6,
   "metadata": {},
   "outputs": [
    {
     "data": {
      "text/html": [
       "<div>\n",
       "<style>\n",
       "    .dataframe thead tr:only-child th {\n",
       "        text-align: right;\n",
       "    }\n",
       "\n",
       "    .dataframe thead th {\n",
       "        text-align: left;\n",
       "    }\n",
       "\n",
       "    .dataframe tbody tr th {\n",
       "        vertical-align: top;\n",
       "    }\n",
       "</style>\n",
       "<table border=\"1\" class=\"dataframe\">\n",
       "  <thead>\n",
       "    <tr style=\"text-align: right;\">\n",
       "      <th></th>\n",
       "      <th>age</th>\n",
       "      <th>job</th>\n",
       "      <th>marital</th>\n",
       "      <th>education</th>\n",
       "      <th>housing</th>\n",
       "      <th>loan</th>\n",
       "      <th>campaign</th>\n",
       "      <th>previous</th>\n",
       "      <th>poutcome</th>\n",
       "      <th>emp.var.rate</th>\n",
       "      <th>cons.price.idx</th>\n",
       "      <th>cons.conf.idx</th>\n",
       "      <th>euribor3m</th>\n",
       "      <th>nr.employed</th>\n",
       "      <th>willRespond</th>\n",
       "    </tr>\n",
       "  </thead>\n",
       "  <tbody>\n",
       "    <tr>\n",
       "      <th>0</th>\n",
       "      <td>52</td>\n",
       "      <td>admin.</td>\n",
       "      <td>single</td>\n",
       "      <td>university.degree</td>\n",
       "      <td>unknown</td>\n",
       "      <td>unknown</td>\n",
       "      <td>3</td>\n",
       "      <td>0</td>\n",
       "      <td>nonexistent</td>\n",
       "      <td>1.4</td>\n",
       "      <td>93.444</td>\n",
       "      <td>-36.1</td>\n",
       "      <td>4.964</td>\n",
       "      <td>5228.1</td>\n",
       "      <td>0</td>\n",
       "    </tr>\n",
       "    <tr>\n",
       "      <th>1</th>\n",
       "      <td>49</td>\n",
       "      <td>blue-collar</td>\n",
       "      <td>divorced</td>\n",
       "      <td>high.school</td>\n",
       "      <td>no</td>\n",
       "      <td>yes</td>\n",
       "      <td>2</td>\n",
       "      <td>0</td>\n",
       "      <td>nonexistent</td>\n",
       "      <td>1.1</td>\n",
       "      <td>93.994</td>\n",
       "      <td>-36.4</td>\n",
       "      <td>4.857</td>\n",
       "      <td>5191.0</td>\n",
       "      <td>0</td>\n",
       "    </tr>\n",
       "    <tr>\n",
       "      <th>2</th>\n",
       "      <td>25</td>\n",
       "      <td>blue-collar</td>\n",
       "      <td>single</td>\n",
       "      <td>basic.9y</td>\n",
       "      <td>yes</td>\n",
       "      <td>yes</td>\n",
       "      <td>2</td>\n",
       "      <td>0</td>\n",
       "      <td>nonexistent</td>\n",
       "      <td>1.4</td>\n",
       "      <td>93.918</td>\n",
       "      <td>-42.7</td>\n",
       "      <td>4.963</td>\n",
       "      <td>5228.1</td>\n",
       "      <td>0</td>\n",
       "    </tr>\n",
       "    <tr>\n",
       "      <th>3</th>\n",
       "      <td>27</td>\n",
       "      <td>admin.</td>\n",
       "      <td>single</td>\n",
       "      <td>university.degree</td>\n",
       "      <td>no</td>\n",
       "      <td>no</td>\n",
       "      <td>1</td>\n",
       "      <td>0</td>\n",
       "      <td>nonexistent</td>\n",
       "      <td>-0.1</td>\n",
       "      <td>93.798</td>\n",
       "      <td>-40.4</td>\n",
       "      <td>4.860</td>\n",
       "      <td>5195.8</td>\n",
       "      <td>1</td>\n",
       "    </tr>\n",
       "    <tr>\n",
       "      <th>4</th>\n",
       "      <td>44</td>\n",
       "      <td>admin.</td>\n",
       "      <td>married</td>\n",
       "      <td>university.degree</td>\n",
       "      <td>yes</td>\n",
       "      <td>no</td>\n",
       "      <td>1</td>\n",
       "      <td>0</td>\n",
       "      <td>nonexistent</td>\n",
       "      <td>-2.9</td>\n",
       "      <td>92.201</td>\n",
       "      <td>-31.4</td>\n",
       "      <td>0.879</td>\n",
       "      <td>5076.2</td>\n",
       "      <td>0</td>\n",
       "    </tr>\n",
       "  </tbody>\n",
       "</table>\n",
       "</div>"
      ],
      "text/plain": [
       "   age          job   marital          education  housing     loan  campaign  \\\n",
       "0   52       admin.    single  university.degree  unknown  unknown         3   \n",
       "1   49  blue-collar  divorced        high.school       no      yes         2   \n",
       "2   25  blue-collar    single           basic.9y      yes      yes         2   \n",
       "3   27       admin.    single  university.degree       no       no         1   \n",
       "4   44       admin.   married  university.degree      yes       no         1   \n",
       "\n",
       "   previous     poutcome  emp.var.rate  cons.price.idx  cons.conf.idx  \\\n",
       "0         0  nonexistent           1.4          93.444          -36.1   \n",
       "1         0  nonexistent           1.1          93.994          -36.4   \n",
       "2         0  nonexistent           1.4          93.918          -42.7   \n",
       "3         0  nonexistent          -0.1          93.798          -40.4   \n",
       "4         0  nonexistent          -2.9          92.201          -31.4   \n",
       "\n",
       "   euribor3m  nr.employed  willRespond  \n",
       "0      4.964       5228.1            0  \n",
       "1      4.857       5191.0            0  \n",
       "2      4.963       5228.1            0  \n",
       "3      4.860       5195.8            1  \n",
       "4      0.879       5076.2            0  "
      ]
     },
     "execution_count": 6,
     "metadata": {},
     "output_type": "execute_result"
    }
   ],
   "source": [
    "#這裡開始做muli linear regression\n",
    "#這裡開始會去除一些資料 -->同樣解答了後面的一個題目，一些我們不需要的資料去除 -->Removing unnecessary columns\n",
    "df.drop(['duration','contact','month','day_of_week','default','pdays',],axis=1,inplace=True) \n",
    "df.head()"
   ]
  },
  {
   "cell_type": "code",
   "execution_count": 7,
   "metadata": {
    "collapsed": true
   },
   "outputs": [],
   "source": [
    "#這裡開始是把文字描述變成數字去呈現\n",
    "from sklearn.preprocessing import LabelEncoder\n",
    "from sklearn import preprocessing\n",
    "from sklearn import cross_validation\n",
    "from sklearn.linear_model import LogisticRegression\n",
    "from sklearn import metrics\n",
    "le=preprocessing.LabelEncoder()"
   ]
  },
  {
   "cell_type": "code",
   "execution_count": 8,
   "metadata": {},
   "outputs": [
    {
     "data": {
      "text/plain": [
       "LabelEncoder()"
      ]
     },
     "execution_count": 8,
     "metadata": {},
     "output_type": "execute_result"
    }
   ],
   "source": [
    "le.fit(df.poutcome)"
   ]
  },
  {
   "cell_type": "code",
   "execution_count": 9,
   "metadata": {},
   "outputs": [
    {
     "data": {
      "text/plain": [
       "['failure', 'nonexistent', 'success']"
      ]
     },
     "execution_count": 9,
     "metadata": {},
     "output_type": "execute_result"
    }
   ],
   "source": [
    "list(le.classes_)"
   ]
  },
  {
   "cell_type": "code",
   "execution_count": 10,
   "metadata": {},
   "outputs": [
    {
     "data": {
      "text/html": [
       "<div>\n",
       "<style>\n",
       "    .dataframe thead tr:only-child th {\n",
       "        text-align: right;\n",
       "    }\n",
       "\n",
       "    .dataframe thead th {\n",
       "        text-align: left;\n",
       "    }\n",
       "\n",
       "    .dataframe tbody tr th {\n",
       "        vertical-align: top;\n",
       "    }\n",
       "</style>\n",
       "<table border=\"1\" class=\"dataframe\">\n",
       "  <thead>\n",
       "    <tr style=\"text-align: right;\">\n",
       "      <th></th>\n",
       "      <th>age</th>\n",
       "      <th>job</th>\n",
       "      <th>marital</th>\n",
       "      <th>education</th>\n",
       "      <th>housing</th>\n",
       "      <th>loan</th>\n",
       "      <th>campaign</th>\n",
       "      <th>previous</th>\n",
       "      <th>poutcome</th>\n",
       "      <th>emp.var.rate</th>\n",
       "      <th>cons.price.idx</th>\n",
       "      <th>cons.conf.idx</th>\n",
       "      <th>euribor3m</th>\n",
       "      <th>nr.employed</th>\n",
       "      <th>willRespond</th>\n",
       "    </tr>\n",
       "  </thead>\n",
       "  <tbody>\n",
       "    <tr>\n",
       "      <th>0</th>\n",
       "      <td>52</td>\n",
       "      <td>0</td>\n",
       "      <td>2</td>\n",
       "      <td>6</td>\n",
       "      <td>1</td>\n",
       "      <td>1</td>\n",
       "      <td>3</td>\n",
       "      <td>0</td>\n",
       "      <td>1</td>\n",
       "      <td>1.4</td>\n",
       "      <td>93.444</td>\n",
       "      <td>-36.1</td>\n",
       "      <td>4.964</td>\n",
       "      <td>5228.1</td>\n",
       "      <td>0</td>\n",
       "    </tr>\n",
       "    <tr>\n",
       "      <th>1</th>\n",
       "      <td>49</td>\n",
       "      <td>1</td>\n",
       "      <td>0</td>\n",
       "      <td>3</td>\n",
       "      <td>0</td>\n",
       "      <td>2</td>\n",
       "      <td>2</td>\n",
       "      <td>0</td>\n",
       "      <td>1</td>\n",
       "      <td>1.1</td>\n",
       "      <td>93.994</td>\n",
       "      <td>-36.4</td>\n",
       "      <td>4.857</td>\n",
       "      <td>5191.0</td>\n",
       "      <td>0</td>\n",
       "    </tr>\n",
       "    <tr>\n",
       "      <th>2</th>\n",
       "      <td>25</td>\n",
       "      <td>1</td>\n",
       "      <td>2</td>\n",
       "      <td>2</td>\n",
       "      <td>2</td>\n",
       "      <td>2</td>\n",
       "      <td>2</td>\n",
       "      <td>0</td>\n",
       "      <td>1</td>\n",
       "      <td>1.4</td>\n",
       "      <td>93.918</td>\n",
       "      <td>-42.7</td>\n",
       "      <td>4.963</td>\n",
       "      <td>5228.1</td>\n",
       "      <td>0</td>\n",
       "    </tr>\n",
       "    <tr>\n",
       "      <th>3</th>\n",
       "      <td>27</td>\n",
       "      <td>0</td>\n",
       "      <td>2</td>\n",
       "      <td>6</td>\n",
       "      <td>0</td>\n",
       "      <td>0</td>\n",
       "      <td>1</td>\n",
       "      <td>0</td>\n",
       "      <td>1</td>\n",
       "      <td>-0.1</td>\n",
       "      <td>93.798</td>\n",
       "      <td>-40.4</td>\n",
       "      <td>4.860</td>\n",
       "      <td>5195.8</td>\n",
       "      <td>1</td>\n",
       "    </tr>\n",
       "    <tr>\n",
       "      <th>4</th>\n",
       "      <td>44</td>\n",
       "      <td>0</td>\n",
       "      <td>1</td>\n",
       "      <td>6</td>\n",
       "      <td>2</td>\n",
       "      <td>0</td>\n",
       "      <td>1</td>\n",
       "      <td>0</td>\n",
       "      <td>1</td>\n",
       "      <td>-2.9</td>\n",
       "      <td>92.201</td>\n",
       "      <td>-31.4</td>\n",
       "      <td>0.879</td>\n",
       "      <td>5076.2</td>\n",
       "      <td>0</td>\n",
       "    </tr>\n",
       "  </tbody>\n",
       "</table>\n",
       "</div>"
      ],
      "text/plain": [
       "   age  job  marital  education  housing  loan  campaign  previous  poutcome  \\\n",
       "0   52    0        2          6        1     1         3         0         1   \n",
       "1   49    1        0          3        0     2         2         0         1   \n",
       "2   25    1        2          2        2     2         2         0         1   \n",
       "3   27    0        2          6        0     0         1         0         1   \n",
       "4   44    0        1          6        2     0         1         0         1   \n",
       "\n",
       "   emp.var.rate  cons.price.idx  cons.conf.idx  euribor3m  nr.employed  \\\n",
       "0           1.4          93.444          -36.1      4.964       5228.1   \n",
       "1           1.1          93.994          -36.4      4.857       5191.0   \n",
       "2           1.4          93.918          -42.7      4.963       5228.1   \n",
       "3          -0.1          93.798          -40.4      4.860       5195.8   \n",
       "4          -2.9          92.201          -31.4      0.879       5076.2   \n",
       "\n",
       "   willRespond  \n",
       "0            0  \n",
       "1            0  \n",
       "2            0  \n",
       "3            1  \n",
       "4            0  "
      ]
     },
     "execution_count": 10,
     "metadata": {},
     "output_type": "execute_result"
    }
   ],
   "source": [
    "df.poutcome=le.transform(df.poutcome)\n",
    "df.housing=le.fit_transform(df.housing)\n",
    "df.loan=le.fit_transform(df.loan)\n",
    "df.job=le.fit_transform(df.job)\n",
    "df.marital=le.fit_transform(df.marital)\n",
    "df.education=le.fit_transform(df.education)\n",
    "df.head()"
   ]
  },
  {
   "cell_type": "code",
   "execution_count": 11,
   "metadata": {},
   "outputs": [
    {
     "data": {
      "text/plain": [
       "['basic.4y',\n",
       " 'basic.6y',\n",
       " 'basic.9y',\n",
       " 'high.school',\n",
       " 'illiterate',\n",
       " 'professional.course',\n",
       " 'university.degree',\n",
       " 'unknown']"
      ]
     },
     "execution_count": 11,
     "metadata": {},
     "output_type": "execute_result"
    }
   ],
   "source": [
    "list(le.classes_)"
   ]
  },
  {
   "cell_type": "code",
   "execution_count": 12,
   "metadata": {},
   "outputs": [
    {
     "data": {
      "text/html": [
       "<div>\n",
       "<style>\n",
       "    .dataframe thead tr:only-child th {\n",
       "        text-align: right;\n",
       "    }\n",
       "\n",
       "    .dataframe thead th {\n",
       "        text-align: left;\n",
       "    }\n",
       "\n",
       "    .dataframe tbody tr th {\n",
       "        vertical-align: top;\n",
       "    }\n",
       "</style>\n",
       "<table border=\"1\" class=\"dataframe\">\n",
       "  <thead>\n",
       "    <tr style=\"text-align: right;\">\n",
       "      <th></th>\n",
       "      <th>marital_0</th>\n",
       "      <th>marital_1</th>\n",
       "      <th>marital_2</th>\n",
       "      <th>marital_3</th>\n",
       "    </tr>\n",
       "  </thead>\n",
       "  <tbody>\n",
       "    <tr>\n",
       "      <th>0</th>\n",
       "      <td>0</td>\n",
       "      <td>0</td>\n",
       "      <td>1</td>\n",
       "      <td>0</td>\n",
       "    </tr>\n",
       "    <tr>\n",
       "      <th>1</th>\n",
       "      <td>1</td>\n",
       "      <td>0</td>\n",
       "      <td>0</td>\n",
       "      <td>0</td>\n",
       "    </tr>\n",
       "    <tr>\n",
       "      <th>2</th>\n",
       "      <td>0</td>\n",
       "      <td>0</td>\n",
       "      <td>1</td>\n",
       "      <td>0</td>\n",
       "    </tr>\n",
       "    <tr>\n",
       "      <th>3</th>\n",
       "      <td>0</td>\n",
       "      <td>0</td>\n",
       "      <td>1</td>\n",
       "      <td>0</td>\n",
       "    </tr>\n",
       "    <tr>\n",
       "      <th>4</th>\n",
       "      <td>0</td>\n",
       "      <td>1</td>\n",
       "      <td>0</td>\n",
       "      <td>0</td>\n",
       "    </tr>\n",
       "  </tbody>\n",
       "</table>\n",
       "</div>"
      ],
      "text/plain": [
       "   marital_0  marital_1  marital_2  marital_3\n",
       "0          0          0          1          0\n",
       "1          1          0          0          0\n",
       "2          0          0          1          0\n",
       "3          0          0          1          0\n",
       "4          0          1          0          0"
      ]
     },
     "execution_count": 12,
     "metadata": {},
     "output_type": "execute_result"
    }
   ],
   "source": [
    "# 這裡開始事 羅輯回歸的計算，目的在於觀察婚姻的情況是否影響對營行的回應\n",
    "# 分別是 0=divorced  1=married 2=single 3= 沒提供\n",
    "dummy_ranks = pd.get_dummies(df['marital'], prefix='marital')\n",
    "dummy_ranks.head()\n"
   ]
  },
  {
   "cell_type": "code",
   "execution_count": 13,
   "metadata": {},
   "outputs": [
    {
     "data": {
      "text/html": [
       "<div>\n",
       "<style>\n",
       "    .dataframe thead tr:only-child th {\n",
       "        text-align: right;\n",
       "    }\n",
       "\n",
       "    .dataframe thead th {\n",
       "        text-align: left;\n",
       "    }\n",
       "\n",
       "    .dataframe tbody tr th {\n",
       "        vertical-align: top;\n",
       "    }\n",
       "</style>\n",
       "<table border=\"1\" class=\"dataframe\">\n",
       "  <thead>\n",
       "    <tr style=\"text-align: right;\">\n",
       "      <th></th>\n",
       "      <th>willRespond</th>\n",
       "      <th>age</th>\n",
       "      <th>cons.conf.idx</th>\n",
       "      <th>marital_0</th>\n",
       "      <th>marital_1</th>\n",
       "      <th>marital_2</th>\n",
       "      <th>marital_3</th>\n",
       "    </tr>\n",
       "  </thead>\n",
       "  <tbody>\n",
       "    <tr>\n",
       "      <th>0</th>\n",
       "      <td>0</td>\n",
       "      <td>52</td>\n",
       "      <td>-36.1</td>\n",
       "      <td>0</td>\n",
       "      <td>0</td>\n",
       "      <td>1</td>\n",
       "      <td>0</td>\n",
       "    </tr>\n",
       "    <tr>\n",
       "      <th>1</th>\n",
       "      <td>0</td>\n",
       "      <td>49</td>\n",
       "      <td>-36.4</td>\n",
       "      <td>1</td>\n",
       "      <td>0</td>\n",
       "      <td>0</td>\n",
       "      <td>0</td>\n",
       "    </tr>\n",
       "    <tr>\n",
       "      <th>2</th>\n",
       "      <td>0</td>\n",
       "      <td>25</td>\n",
       "      <td>-42.7</td>\n",
       "      <td>0</td>\n",
       "      <td>0</td>\n",
       "      <td>1</td>\n",
       "      <td>0</td>\n",
       "    </tr>\n",
       "    <tr>\n",
       "      <th>3</th>\n",
       "      <td>1</td>\n",
       "      <td>27</td>\n",
       "      <td>-40.4</td>\n",
       "      <td>0</td>\n",
       "      <td>0</td>\n",
       "      <td>1</td>\n",
       "      <td>0</td>\n",
       "    </tr>\n",
       "    <tr>\n",
       "      <th>4</th>\n",
       "      <td>0</td>\n",
       "      <td>44</td>\n",
       "      <td>-31.4</td>\n",
       "      <td>0</td>\n",
       "      <td>1</td>\n",
       "      <td>0</td>\n",
       "      <td>0</td>\n",
       "    </tr>\n",
       "  </tbody>\n",
       "</table>\n",
       "</div>"
      ],
      "text/plain": [
       "   willRespond  age  cons.conf.idx  marital_0  marital_1  marital_2  marital_3\n",
       "0            0   52          -36.1          0          0          1          0\n",
       "1            0   49          -36.4          1          0          0          0\n",
       "2            0   25          -42.7          0          0          1          0\n",
       "3            1   27          -40.4          0          0          1          0\n",
       "4            0   44          -31.4          0          1          0          0"
      ]
     },
     "execution_count": 13,
     "metadata": {},
     "output_type": "execute_result"
    }
   ],
   "source": [
    "keep = ['willRespond','age','cons.conf.idx']\n",
    "bank_dummy = df[keep].join(dummy_ranks.ix[:, 'marital_0':])\n",
    "bank_dummy.head()"
   ]
  },
  {
   "cell_type": "code",
   "execution_count": 14,
   "metadata": {},
   "outputs": [
    {
     "data": {
      "text/html": [
       "<div>\n",
       "<style>\n",
       "    .dataframe thead tr:only-child th {\n",
       "        text-align: right;\n",
       "    }\n",
       "\n",
       "    .dataframe thead th {\n",
       "        text-align: left;\n",
       "    }\n",
       "\n",
       "    .dataframe tbody tr th {\n",
       "        vertical-align: top;\n",
       "    }\n",
       "</style>\n",
       "<table border=\"1\" class=\"dataframe\">\n",
       "  <thead>\n",
       "    <tr style=\"text-align: right;\">\n",
       "      <th></th>\n",
       "      <th>willRespond</th>\n",
       "      <th>age</th>\n",
       "      <th>cons.conf.idx</th>\n",
       "      <th>marital_0</th>\n",
       "      <th>marital_1</th>\n",
       "      <th>marital_2</th>\n",
       "      <th>marital_3</th>\n",
       "      <th>intercept</th>\n",
       "    </tr>\n",
       "  </thead>\n",
       "  <tbody>\n",
       "    <tr>\n",
       "      <th>0</th>\n",
       "      <td>0</td>\n",
       "      <td>52</td>\n",
       "      <td>-36.1</td>\n",
       "      <td>0</td>\n",
       "      <td>0</td>\n",
       "      <td>1</td>\n",
       "      <td>0</td>\n",
       "      <td>1.0</td>\n",
       "    </tr>\n",
       "    <tr>\n",
       "      <th>1</th>\n",
       "      <td>0</td>\n",
       "      <td>49</td>\n",
       "      <td>-36.4</td>\n",
       "      <td>1</td>\n",
       "      <td>0</td>\n",
       "      <td>0</td>\n",
       "      <td>0</td>\n",
       "      <td>1.0</td>\n",
       "    </tr>\n",
       "    <tr>\n",
       "      <th>2</th>\n",
       "      <td>0</td>\n",
       "      <td>25</td>\n",
       "      <td>-42.7</td>\n",
       "      <td>0</td>\n",
       "      <td>0</td>\n",
       "      <td>1</td>\n",
       "      <td>0</td>\n",
       "      <td>1.0</td>\n",
       "    </tr>\n",
       "    <tr>\n",
       "      <th>3</th>\n",
       "      <td>1</td>\n",
       "      <td>27</td>\n",
       "      <td>-40.4</td>\n",
       "      <td>0</td>\n",
       "      <td>0</td>\n",
       "      <td>1</td>\n",
       "      <td>0</td>\n",
       "      <td>1.0</td>\n",
       "    </tr>\n",
       "    <tr>\n",
       "      <th>4</th>\n",
       "      <td>0</td>\n",
       "      <td>44</td>\n",
       "      <td>-31.4</td>\n",
       "      <td>0</td>\n",
       "      <td>1</td>\n",
       "      <td>0</td>\n",
       "      <td>0</td>\n",
       "      <td>1.0</td>\n",
       "    </tr>\n",
       "  </tbody>\n",
       "</table>\n",
       "</div>"
      ],
      "text/plain": [
       "   willRespond  age  cons.conf.idx  marital_0  marital_1  marital_2  \\\n",
       "0            0   52          -36.1          0          0          1   \n",
       "1            0   49          -36.4          1          0          0   \n",
       "2            0   25          -42.7          0          0          1   \n",
       "3            1   27          -40.4          0          0          1   \n",
       "4            0   44          -31.4          0          1          0   \n",
       "\n",
       "   marital_3  intercept  \n",
       "0          0        1.0  \n",
       "1          0        1.0  \n",
       "2          0        1.0  \n",
       "3          0        1.0  \n",
       "4          0        1.0  "
      ]
     },
     "execution_count": 14,
     "metadata": {},
     "output_type": "execute_result"
    }
   ],
   "source": [
    "# Adding intercept manually\n",
    "bank_dummy['intercept'] = 1.0\n",
    "bank_dummy.head()"
   ]
  },
  {
   "cell_type": "code",
   "execution_count": 15,
   "metadata": {},
   "outputs": [
    {
     "data": {
      "text/plain": [
       "['age', 'cons.conf.idx', 'marital_0', 'marital_1', 'marital_2', 'intercept']"
      ]
     },
     "execution_count": 15,
     "metadata": {},
     "output_type": "execute_result"
    }
   ],
   "source": [
    "#在這裡拋棄掉unknow的資料也就是 marital_3\n",
    "pred = ['age','cons.conf.idx','marital_0', 'marital_1', 'marital_2', 'intercept']\n",
    "pred"
   ]
  },
  {
   "cell_type": "code",
   "execution_count": 16,
   "metadata": {},
   "outputs": [
    {
     "name": "stdout",
     "output_type": "stream",
     "text": [
      "Optimization terminated successfully.\n",
      "         Current function value: 0.361377\n",
      "         Iterations 6\n"
     ]
    },
    {
     "data": {
      "text/html": [
       "<table class=\"simpletable\">\n",
       "<caption>Logit Regression Results</caption>\n",
       "<tr>\n",
       "  <th>Dep. Variable:</th>    <td>willRespond</td>   <th>  No. Observations:  </th>  <td>  5000</td> \n",
       "</tr>\n",
       "<tr>\n",
       "  <th>Model:</th>               <td>Logit</td>      <th>  Df Residuals:      </th>  <td>  4994</td> \n",
       "</tr>\n",
       "<tr>\n",
       "  <th>Method:</th>               <td>MLE</td>       <th>  Df Model:          </th>  <td>     5</td> \n",
       "</tr>\n",
       "<tr>\n",
       "  <th>Date:</th>          <td>Wed, 18 Oct 2017</td> <th>  Pseudo R-squ.:     </th> <td>0.005357</td>\n",
       "</tr>\n",
       "<tr>\n",
       "  <th>Time:</th>              <td>18:01:25</td>     <th>  Log-Likelihood:    </th> <td> -1806.9</td>\n",
       "</tr>\n",
       "<tr>\n",
       "  <th>converged:</th>           <td>True</td>       <th>  LL-Null:           </th> <td> -1816.6</td>\n",
       "</tr>\n",
       "<tr>\n",
       "  <th> </th>                      <td> </td>        <th>  LLR p-value:       </th> <td>0.001574</td>\n",
       "</tr>\n",
       "</table>\n",
       "<table class=\"simpletable\">\n",
       "<tr>\n",
       "        <td></td>           <th>coef</th>     <th>std err</th>      <th>z</th>      <th>P>|z|</th>  <th>[0.025</th>    <th>0.975]</th>  \n",
       "</tr>\n",
       "<tr>\n",
       "  <th>age</th>           <td>    0.0154</td> <td>    0.005</td> <td>    3.353</td> <td> 0.001</td> <td>    0.006</td> <td>    0.024</td>\n",
       "</tr>\n",
       "<tr>\n",
       "  <th>cons.conf.idx</th> <td>    0.0114</td> <td>    0.010</td> <td>    1.194</td> <td> 0.233</td> <td>   -0.007</td> <td>    0.030</td>\n",
       "</tr>\n",
       "<tr>\n",
       "  <th>marital_0</th>     <td>   -1.0620</td> <td>    0.818</td> <td>   -1.299</td> <td> 0.194</td> <td>   -2.664</td> <td>    0.540</td>\n",
       "</tr>\n",
       "<tr>\n",
       "  <th>marital_1</th>     <td>   -0.8832</td> <td>    0.806</td> <td>   -1.096</td> <td> 0.273</td> <td>   -2.462</td> <td>    0.696</td>\n",
       "</tr>\n",
       "<tr>\n",
       "  <th>marital_2</th>     <td>   -0.5671</td> <td>    0.807</td> <td>   -0.702</td> <td> 0.483</td> <td>   -2.150</td> <td>    1.016</td>\n",
       "</tr>\n",
       "<tr>\n",
       "  <th>intercept</th>     <td>   -1.3654</td> <td>    0.931</td> <td>   -1.466</td> <td> 0.143</td> <td>   -3.191</td> <td>    0.460</td>\n",
       "</tr>\n",
       "</table>"
      ],
      "text/plain": [
       "<class 'statsmodels.iolib.summary.Summary'>\n",
       "\"\"\"\n",
       "                           Logit Regression Results                           \n",
       "==============================================================================\n",
       "Dep. Variable:            willRespond   No. Observations:                 5000\n",
       "Model:                          Logit   Df Residuals:                     4994\n",
       "Method:                           MLE   Df Model:                            5\n",
       "Date:                Wed, 18 Oct 2017   Pseudo R-squ.:                0.005357\n",
       "Time:                        18:01:25   Log-Likelihood:                -1806.9\n",
       "converged:                       True   LL-Null:                       -1816.6\n",
       "                                        LLR p-value:                  0.001574\n",
       "=================================================================================\n",
       "                    coef    std err          z      P>|z|      [0.025      0.975]\n",
       "---------------------------------------------------------------------------------\n",
       "age               0.0154      0.005      3.353      0.001       0.006       0.024\n",
       "cons.conf.idx     0.0114      0.010      1.194      0.233      -0.007       0.030\n",
       "marital_0        -1.0620      0.818     -1.299      0.194      -2.664       0.540\n",
       "marital_1        -0.8832      0.806     -1.096      0.273      -2.462       0.696\n",
       "marital_2        -0.5671      0.807     -0.702      0.483      -2.150       1.016\n",
       "intercept        -1.3654      0.931     -1.466      0.143      -3.191       0.460\n",
       "=================================================================================\n",
       "\"\"\""
      ]
     },
     "execution_count": 16,
     "metadata": {},
     "output_type": "execute_result"
    }
   ],
   "source": [
    "bank_model = sm.Logit(bank_dummy['willRespond'], bank_dummy[pred]).fit()\n",
    "bank_model.summary()"
   ]
  },
  {
   "cell_type": "code",
   "execution_count": 17,
   "metadata": {},
   "outputs": [
    {
     "data": {
      "text/html": [
       "<div>\n",
       "<style>\n",
       "    .dataframe thead tr:only-child th {\n",
       "        text-align: right;\n",
       "    }\n",
       "\n",
       "    .dataframe thead th {\n",
       "        text-align: left;\n",
       "    }\n",
       "\n",
       "    .dataframe tbody tr th {\n",
       "        vertical-align: top;\n",
       "    }\n",
       "</style>\n",
       "<table border=\"1\" class=\"dataframe\">\n",
       "  <thead>\n",
       "    <tr style=\"text-align: right;\">\n",
       "      <th></th>\n",
       "      <th>0</th>\n",
       "      <th>1</th>\n",
       "    </tr>\n",
       "  </thead>\n",
       "  <tbody>\n",
       "    <tr>\n",
       "      <th>age</th>\n",
       "      <td>0.006401</td>\n",
       "      <td>0.024418</td>\n",
       "    </tr>\n",
       "    <tr>\n",
       "      <th>cons.conf.idx</th>\n",
       "      <td>-0.007305</td>\n",
       "      <td>0.030065</td>\n",
       "    </tr>\n",
       "    <tr>\n",
       "      <th>marital_0</th>\n",
       "      <td>-2.664477</td>\n",
       "      <td>0.540385</td>\n",
       "    </tr>\n",
       "    <tr>\n",
       "      <th>marital_1</th>\n",
       "      <td>-2.462182</td>\n",
       "      <td>0.695723</td>\n",
       "    </tr>\n",
       "    <tr>\n",
       "      <th>marital_2</th>\n",
       "      <td>-2.149724</td>\n",
       "      <td>1.015611</td>\n",
       "    </tr>\n",
       "    <tr>\n",
       "      <th>intercept</th>\n",
       "      <td>-3.190781</td>\n",
       "      <td>0.460019</td>\n",
       "    </tr>\n",
       "  </tbody>\n",
       "</table>\n",
       "</div>"
      ],
      "text/plain": [
       "                      0         1\n",
       "age            0.006401  0.024418\n",
       "cons.conf.idx -0.007305  0.030065\n",
       "marital_0     -2.664477  0.540385\n",
       "marital_1     -2.462182  0.695723\n",
       "marital_2     -2.149724  1.015611\n",
       "intercept     -3.190781  0.460019"
      ]
     },
     "execution_count": 17,
     "metadata": {},
     "output_type": "execute_result"
    }
   ],
   "source": [
    "bank_model.conf_int()"
   ]
  },
  {
   "cell_type": "code",
   "execution_count": 18,
   "metadata": {},
   "outputs": [
    {
     "data": {
      "text/html": [
       "<div>\n",
       "<style>\n",
       "    .dataframe thead tr:only-child th {\n",
       "        text-align: right;\n",
       "    }\n",
       "\n",
       "    .dataframe thead th {\n",
       "        text-align: left;\n",
       "    }\n",
       "\n",
       "    .dataframe tbody tr th {\n",
       "        vertical-align: top;\n",
       "    }\n",
       "</style>\n",
       "<table border=\"1\" class=\"dataframe\">\n",
       "  <thead>\n",
       "    <tr style=\"text-align: right;\">\n",
       "      <th></th>\n",
       "      <th>0</th>\n",
       "      <th>1</th>\n",
       "    </tr>\n",
       "  </thead>\n",
       "  <tbody>\n",
       "    <tr>\n",
       "      <th>age</th>\n",
       "      <td>0.003570</td>\n",
       "      <td>0.027248</td>\n",
       "    </tr>\n",
       "    <tr>\n",
       "      <th>cons.conf.idx</th>\n",
       "      <td>-0.013177</td>\n",
       "      <td>0.035937</td>\n",
       "    </tr>\n",
       "    <tr>\n",
       "      <th>marital_0</th>\n",
       "      <td>-3.167997</td>\n",
       "      <td>1.043906</td>\n",
       "    </tr>\n",
       "    <tr>\n",
       "      <th>marital_1</th>\n",
       "      <td>-2.958325</td>\n",
       "      <td>1.191866</td>\n",
       "    </tr>\n",
       "    <tr>\n",
       "      <th>marital_2</th>\n",
       "      <td>-2.647034</td>\n",
       "      <td>1.512921</td>\n",
       "    </tr>\n",
       "    <tr>\n",
       "      <th>intercept</th>\n",
       "      <td>-3.764363</td>\n",
       "      <td>1.033602</td>\n",
       "    </tr>\n",
       "  </tbody>\n",
       "</table>\n",
       "</div>"
      ],
      "text/plain": [
       "                      0         1\n",
       "age            0.003570  0.027248\n",
       "cons.conf.idx -0.013177  0.035937\n",
       "marital_0     -3.167997  1.043906\n",
       "marital_1     -2.958325  1.191866\n",
       "marital_2     -2.647034  1.512921\n",
       "intercept     -3.764363  1.033602"
      ]
     },
     "execution_count": 18,
     "metadata": {},
     "output_type": "execute_result"
    }
   ],
   "source": [
    "bank_model.conf_int(alpha=0.01)"
   ]
  },
  {
   "cell_type": "code",
   "execution_count": 19,
   "metadata": {},
   "outputs": [
    {
     "data": {
      "text/plain": [
       "age              1.015528\n",
       "cons.conf.idx    1.011445\n",
       "marital_0        0.345748\n",
       "marital_1        0.413445\n",
       "marital_2        0.567192\n",
       "intercept        0.255283\n",
       "dtype: float64"
      ]
     },
     "execution_count": 19,
     "metadata": {},
     "output_type": "execute_result"
    }
   ],
   "source": [
    "np.exp(bank_model.params)"
   ]
  },
  {
   "cell_type": "code",
   "execution_count": 20,
   "metadata": {},
   "outputs": [
    {
     "data": {
      "text/html": [
       "<div>\n",
       "<style>\n",
       "    .dataframe thead tr:only-child th {\n",
       "        text-align: right;\n",
       "    }\n",
       "\n",
       "    .dataframe thead th {\n",
       "        text-align: left;\n",
       "    }\n",
       "\n",
       "    .dataframe tbody tr th {\n",
       "        vertical-align: top;\n",
       "    }\n",
       "</style>\n",
       "<table border=\"1\" class=\"dataframe\">\n",
       "  <thead>\n",
       "    <tr style=\"text-align: right;\">\n",
       "      <th></th>\n",
       "      <th>2.5%</th>\n",
       "      <th>97.5%</th>\n",
       "      <th>OddsRatio</th>\n",
       "    </tr>\n",
       "  </thead>\n",
       "  <tbody>\n",
       "    <tr>\n",
       "      <th>age</th>\n",
       "      <td>1.006421</td>\n",
       "      <td>1.024718</td>\n",
       "      <td>1.015528</td>\n",
       "    </tr>\n",
       "    <tr>\n",
       "      <th>cons.conf.idx</th>\n",
       "      <td>0.992721</td>\n",
       "      <td>1.030522</td>\n",
       "      <td>1.011445</td>\n",
       "    </tr>\n",
       "    <tr>\n",
       "      <th>marital_0</th>\n",
       "      <td>0.069636</td>\n",
       "      <td>1.716668</td>\n",
       "      <td>0.345748</td>\n",
       "    </tr>\n",
       "    <tr>\n",
       "      <th>marital_1</th>\n",
       "      <td>0.085249</td>\n",
       "      <td>2.005158</td>\n",
       "      <td>0.413445</td>\n",
       "    </tr>\n",
       "    <tr>\n",
       "      <th>marital_2</th>\n",
       "      <td>0.116516</td>\n",
       "      <td>2.761049</td>\n",
       "      <td>0.567192</td>\n",
       "    </tr>\n",
       "    <tr>\n",
       "      <th>intercept</th>\n",
       "      <td>0.041140</td>\n",
       "      <td>1.584105</td>\n",
       "      <td>0.255283</td>\n",
       "    </tr>\n",
       "  </tbody>\n",
       "</table>\n",
       "</div>"
      ],
      "text/plain": [
       "                   2.5%     97.5%  OddsRatio\n",
       "age            1.006421  1.024718   1.015528\n",
       "cons.conf.idx  0.992721  1.030522   1.011445\n",
       "marital_0      0.069636  1.716668   0.345748\n",
       "marital_1      0.085249  2.005158   0.413445\n",
       "marital_2      0.116516  2.761049   0.567192\n",
       "intercept      0.041140  1.584105   0.255283"
      ]
     },
     "execution_count": 20,
     "metadata": {},
     "output_type": "execute_result"
    }
   ],
   "source": [
    "# odds ratios and 95% CI\n",
    "params = bank_model.params\n",
    "conf = bank_model.conf_int()\n",
    "conf['OR'] = params\n",
    "conf.columns = ['2.5%', '97.5%', 'OddsRatio']\n",
    "np.exp(conf)"
   ]
  },
  {
   "cell_type": "code",
   "execution_count": 21,
   "metadata": {
    "collapsed": true
   },
   "outputs": [],
   "source": [
    "#partB - 1\n",
    "# Is the relationship significant?\n",
    "# yes, this i use 3 different marital situation whether influence the person to response the bank"
   ]
  },
  {
   "cell_type": "code",
   "execution_count": 22,
   "metadata": {
    "collapsed": true
   },
   "outputs": [],
   "source": [
    "#partB - 2\n",
    "# Are any model assumptions violated?"
   ]
  },
  {
   "cell_type": "code",
   "execution_count": 45,
   "metadata": {},
   "outputs": [
    {
     "data": {
      "image/png": "[encoded data removed]",
      "text/plain": [
       "<matplotlib.figure.Figure at 0x122e16ad0>"
      ]
     },
     "metadata": {},
     "output_type": "display_data"
    }
   ],
   "source": [
    "# Fist make sure it is binary\n",
    "sns.countplot(x=\"willRespond\", data=bank_dummy)\n",
    "plt.show()"
   ]
  },
  {
   "cell_type": "code",
   "execution_count": 46,
   "metadata": {},
   "outputs": [
    {
     "data": {
      "text/plain": [
       "willRespond    0\n",
       "age            0\n",
       "consconf       0\n",
       "marital_0      0\n",
       "marital_1      0\n",
       "marital_2      0\n",
       "marital_3      0\n",
       "intercept      0\n",
       "dtype: int64"
      ]
     },
     "execution_count": 46,
     "metadata": {},
     "output_type": "execute_result"
    }
   ],
   "source": [
    "bank_dummy.isnull().sum()"
   ]
  },
  {
   "cell_type": "code",
   "execution_count": 47,
   "metadata": {},
   "outputs": [
    {
     "data": {
      "image/png": "[encoded data removed]",
      "text/plain": [
       "<matplotlib.figure.Figure at 0x122ea0910>"
      ]
     },
     "metadata": {},
     "output_type": "display_data"
    }
   ],
   "source": [
    "# Checking for independence between features\n",
    "# the independent variables should be independent from each other\n",
    "sns.heatmap(bank_dummy.corr())\n",
    "plt.show()"
   ]
  },
  {
   "cell_type": "code",
   "execution_count": 48,
   "metadata": {},
   "outputs": [
    {
     "data": {
      "text/plain": [
       "willRespond     2\n",
       "age            68\n",
       "consconf       26\n",
       "marital_0       2\n",
       "marital_1       2\n",
       "marital_2       2\n",
       "marital_3       2\n",
       "intercept       1\n",
       "dtype: int64"
      ]
     },
     "execution_count": 48,
     "metadata": {},
     "output_type": "execute_result"
    }
   ],
   "source": [
    "# make sure every row\n",
    "bank_dummy.apply(lambda x: len(x.unique()))"
   ]
  },
  {
   "cell_type": "code",
   "execution_count": null,
   "metadata": {
    "collapsed": true
   },
   "outputs": [],
   "source": [
    "# for hire, I think it is no violated"
   ]
  },
  {
   "cell_type": "code",
   "execution_count": 24,
   "metadata": {},
   "outputs": [
    {
     "data": {
      "text/html": [
       "<table class=\"simpletable\">\n",
       "<caption>OLS Regression Results</caption>\n",
       "<tr>\n",
       "  <th>Dep. Variable:</th>       <td>willRespond</td>   <th>  R-squared:         </th> <td>   0.121</td> \n",
       "</tr>\n",
       "<tr>\n",
       "  <th>Model:</th>                   <td>OLS</td>       <th>  Adj. R-squared:    </th> <td>   0.120</td> \n",
       "</tr>\n",
       "<tr>\n",
       "  <th>Method:</th>             <td>Least Squares</td>  <th>  F-statistic:       </th> <td>   137.7</td> \n",
       "</tr>\n",
       "<tr>\n",
       "  <th>Date:</th>             <td>Wed, 18 Oct 2017</td> <th>  Prob (F-statistic):</th> <td>3.39e-137</td>\n",
       "</tr>\n",
       "<tr>\n",
       "  <th>Time:</th>                 <td>18:01:25</td>     <th>  Log-Likelihood:    </th> <td> -1433.4</td> \n",
       "</tr>\n",
       "<tr>\n",
       "  <th>No. Observations:</th>      <td>  5000</td>      <th>  AIC:               </th> <td>   2877.</td> \n",
       "</tr>\n",
       "<tr>\n",
       "  <th>Df Residuals:</th>          <td>  4995</td>      <th>  BIC:               </th> <td>   2909.</td> \n",
       "</tr>\n",
       "<tr>\n",
       "  <th>Df Model:</th>              <td>     5</td>      <th>                     </th>     <td> </td>    \n",
       "</tr>\n",
       "<tr>\n",
       "  <th>Covariance Type:</th>      <td>nonrobust</td>    <th>                     </th>     <td> </td>    \n",
       "</tr>\n",
       "</table>\n",
       "<table class=\"simpletable\">\n",
       "<tr>\n",
       "      <td></td>         <th>coef</th>     <th>std err</th>      <th>t</th>      <th>P>|t|</th>  <th>[0.025</th>    <th>0.975]</th>  \n",
       "</tr>\n",
       "<tr>\n",
       "  <th>age</th>       <td>    0.0018</td> <td>    0.000</td> <td>    3.819</td> <td> 0.000</td> <td>    0.001</td> <td>    0.003</td>\n",
       "</tr>\n",
       "<tr>\n",
       "  <th>consconf</th>  <td>    0.0005</td> <td>    0.001</td> <td>    0.572</td> <td> 0.567</td> <td>   -0.001</td> <td>    0.002</td>\n",
       "</tr>\n",
       "<tr>\n",
       "  <th>marital_0</th> <td>    0.0401</td> <td>    0.047</td> <td>    0.859</td> <td> 0.390</td> <td>   -0.051</td> <td>    0.131</td>\n",
       "</tr>\n",
       "<tr>\n",
       "  <th>marital_1</th> <td>    0.0580</td> <td>    0.044</td> <td>    1.315</td> <td> 0.188</td> <td>   -0.028</td> <td>    0.144</td>\n",
       "</tr>\n",
       "<tr>\n",
       "  <th>marital_2</th> <td>    0.0929</td> <td>    0.043</td> <td>    2.171</td> <td> 0.030</td> <td>    0.009</td> <td>    0.177</td>\n",
       "</tr>\n",
       "</table>\n",
       "<table class=\"simpletable\">\n",
       "<tr>\n",
       "  <th>Omnibus:</th>       <td>2188.836</td> <th>  Durbin-Watson:     </th> <td>   1.978</td>\n",
       "</tr>\n",
       "<tr>\n",
       "  <th>Prob(Omnibus):</th>  <td> 0.000</td>  <th>  Jarque-Bera (JB):  </th> <td>7266.899</td>\n",
       "</tr>\n",
       "<tr>\n",
       "  <th>Skew:</th>           <td> 2.352</td>  <th>  Prob(JB):          </th> <td>    0.00</td>\n",
       "</tr>\n",
       "<tr>\n",
       "  <th>Kurtosis:</th>       <td> 6.571</td>  <th>  Cond. No.          </th> <td>    949.</td>\n",
       "</tr>\n",
       "</table>"
      ],
      "text/plain": [
       "<class 'statsmodels.iolib.summary.Summary'>\n",
       "\"\"\"\n",
       "                            OLS Regression Results                            \n",
       "==============================================================================\n",
       "Dep. Variable:            willRespond   R-squared:                       0.121\n",
       "Model:                            OLS   Adj. R-squared:                  0.120\n",
       "Method:                 Least Squares   F-statistic:                     137.7\n",
       "Date:                Wed, 18 Oct 2017   Prob (F-statistic):          3.39e-137\n",
       "Time:                        18:01:25   Log-Likelihood:                -1433.4\n",
       "No. Observations:                5000   AIC:                             2877.\n",
       "Df Residuals:                    4995   BIC:                             2909.\n",
       "Df Model:                           5                                         \n",
       "Covariance Type:            nonrobust                                         \n",
       "==============================================================================\n",
       "                 coef    std err          t      P>|t|      [0.025      0.975]\n",
       "------------------------------------------------------------------------------\n",
       "age            0.0018      0.000      3.819      0.000       0.001       0.003\n",
       "consconf       0.0005      0.001      0.572      0.567      -0.001       0.002\n",
       "marital_0      0.0401      0.047      0.859      0.390      -0.051       0.131\n",
       "marital_1      0.0580      0.044      1.315      0.188      -0.028       0.144\n",
       "marital_2      0.0929      0.043      2.171      0.030       0.009       0.177\n",
       "==============================================================================\n",
       "Omnibus:                     2188.836   Durbin-Watson:                   1.978\n",
       "Prob(Omnibus):                  0.000   Jarque-Bera (JB):             7266.899\n",
       "Skew:                           2.352   Prob(JB):                         0.00\n",
       "Kurtosis:                       6.571   Cond. No.                         949.\n",
       "==============================================================================\n",
       "\n",
       "Warnings:\n",
       "[1] Standard Errors assume that the covariance matrix of the errors is correctly specified.\n",
       "\"\"\""
      ]
     },
     "execution_count": 24,
     "metadata": {},
     "output_type": "execute_result"
    }
   ],
   "source": [
    "# if we tried the linear to look it\n",
    "from statsmodels.formula.api import ols\n",
    "bank_dummy.rename(columns={'cons.conf.idx':'consconf'},inplace=True)\n",
    "Respond_marital_model = ols(\"willRespond ~ age + consconf + marital_0 + marital_1 + marital_2 -1\", data=bank_dummy).fit()\n",
    "Respond_marital_model.summary()"
   ]
  },
  {
   "cell_type": "code",
   "execution_count": 25,
   "metadata": {},
   "outputs": [
    {
     "data": {
      "image/png": "[encoded data removed]",
      "text/plain": [
       "<matplotlib.figure.Figure at 0x11c834c50>"
      ]
     },
     "metadata": {},
     "output_type": "display_data"
    }
   ],
   "source": [
    "## Q-Q plot for normality\n",
    "\n",
    "fig1=sm.qqplot(Respond_marital_model.resid, line='r')\n",
    "plt.show()"
   ]
  },
  {
   "cell_type": "code",
   "execution_count": 26,
   "metadata": {},
   "outputs": [
    {
     "name": "stdout",
     "output_type": "stream",
     "text": [
      "[<matplotlib.lines.Line2D object at 0x12282af50>]\n"
     ]
    },
    {
     "data": {
      "image/png": "[encoded data removed]",
      "text/plain": [
       "<matplotlib.figure.Figure at 0x12279b250>"
      ]
     },
     "metadata": {},
     "output_type": "display_data"
    }
   ],
   "source": [
    "# simple plot of residuals\n",
    "stdres=pd.DataFrame(Respond_marital_model.resid_pearson)\n",
    "fig2 = plt.plot(stdres, 'o', ls='None')\n",
    "l = plt.axhline(y=0, color='r')\n",
    "plt.ylabel('Standardized Residual')\n",
    "plt.xlabel('Observation Number')\n",
    "print (fig2)"
   ]
  },
  {
   "cell_type": "code",
   "execution_count": 27,
   "metadata": {},
   "outputs": [
    {
     "name": "stdout",
     "output_type": "stream",
     "text": [
      "Figure(720x432)\n"
     ]
    },
    {
     "data": {
      "image/png": "[encoded data removed]",
      "text/plain": [
       "<matplotlib.figure.Figure at 0x1227273d0>"
      ]
     },
     "metadata": {},
     "output_type": "display_data"
    }
   ],
   "source": [
    "# leverage plot\n",
    "fig5=sm.graphics.influence_plot(Respond_marital_model, size=15)\n",
    "print(fig5)"
   ]
  },
  {
   "cell_type": "code",
   "execution_count": 28,
   "metadata": {
    "collapsed": true
   },
   "outputs": [],
   "source": [
    "# yes, part of data out to main place"
   ]
  },
  {
   "cell_type": "code",
   "execution_count": 29,
   "metadata": {
    "collapsed": true
   },
   "outputs": [],
   "source": [
    "#partB - 3\n",
    "#Cross-validate the model. How well did it do?"
   ]
  },
  {
   "cell_type": "code",
   "execution_count": 30,
   "metadata": {
    "collapsed": true
   },
   "outputs": [],
   "source": [
    "X = bank_dummy[['age', 'consconf', 'marital_0', 'marital_1', 'marital_2', 'intercept']] \n",
    "y = bank_dummy[['willRespond']]\n",
    "from sklearn.cross_validation import train_test_split  #这里是引用了交叉验证  \n",
    "X_train,X_test, y_train, y_test = train_test_split(X, y, random_state=1)"
   ]
  },
  {
   "cell_type": "code",
   "execution_count": 31,
   "metadata": {},
   "outputs": [
    {
     "data": {
      "text/plain": [
       "((3750, 6), (3750, 1))"
      ]
     },
     "execution_count": 31,
     "metadata": {},
     "output_type": "execute_result"
    }
   ],
   "source": [
    "X_train.shape, y_train.shape"
   ]
  },
  {
   "cell_type": "code",
   "execution_count": 32,
   "metadata": {},
   "outputs": [
    {
     "data": {
      "text/plain": [
       "((1250, 6), (1250, 1))"
      ]
     },
     "execution_count": 32,
     "metadata": {},
     "output_type": "execute_result"
    }
   ],
   "source": [
    "X_test.shape, y_test.shape"
   ]
  },
  {
   "cell_type": "code",
   "execution_count": 33,
   "metadata": {},
   "outputs": [
    {
     "data": {
      "text/plain": [
       "LogisticRegression(C=1.0, class_weight=None, dual=False, fit_intercept=True,\n",
       "          intercept_scaling=1, max_iter=100, multi_class='ovr', n_jobs=1,\n",
       "          penalty='l2', random_state=0, solver='liblinear', tol=0.0001,\n",
       "          verbose=0, warm_start=False)"
      ]
     },
     "execution_count": 33,
     "metadata": {},
     "output_type": "execute_result"
    }
   ],
   "source": [
    "classifier = LogisticRegression(random_state=0)\n",
    "classifier.fit(X_train, y_train)"
   ]
  },
  {
   "cell_type": "code",
   "execution_count": 34,
   "metadata": {},
   "outputs": [
    {
     "name": "stdout",
     "output_type": "stream",
     "text": [
      "[[1101    0]\n",
      " [ 149    0]]\n"
     ]
    }
   ],
   "source": [
    "y_pred = classifier.predict(X_test)\n",
    "from sklearn.metrics import confusion_matrix\n",
    "confusion_matrix = confusion_matrix(y_test, y_pred)\n",
    "print (confusion_matrix)"
   ]
  },
  {
   "cell_type": "code",
   "execution_count": null,
   "metadata": {
    "collapsed": true
   },
   "outputs": [],
   "source": [
    "# it means we have 1101 correct and 149 wrong"
   ]
  },
  {
   "cell_type": "code",
   "execution_count": 35,
   "metadata": {},
   "outputs": [
    {
     "data": {
      "text/plain": [
       "0.88080000000000003"
      ]
     },
     "execution_count": 35,
     "metadata": {},
     "output_type": "execute_result"
    }
   ],
   "source": [
    "classifier.score(X_test,y_test)"
   ]
  },
  {
   "cell_type": "code",
   "execution_count": 36,
   "metadata": {},
   "outputs": [
    {
     "name": "stdout",
     "output_type": "stream",
     "text": [
      "Accuracy of logistic regression classifier on test set: 0.88\n"
     ]
    }
   ],
   "source": [
    "print('Accuracy of logistic regression classifier on test set: {:.2f}'.format(classifier.score(X_test, y_test)))"
   ]
  },
  {
   "cell_type": "code",
   "execution_count": 37,
   "metadata": {},
   "outputs": [
    {
     "name": "stdout",
     "output_type": "stream",
     "text": [
      "             precision    recall  f1-score   support\n",
      "\n",
      "          0       0.88      1.00      0.94      1101\n",
      "          1       0.00      0.00      0.00       149\n",
      "\n",
      "avg / total       0.78      0.88      0.82      1250\n",
      "\n"
     ]
    }
   ],
   "source": [
    "from sklearn.metrics import classification_report\n",
    "print (classification_report(y_test, y_pred))"
   ]
  },
  {
   "cell_type": "code",
   "execution_count": null,
   "metadata": {
    "collapsed": true
   },
   "outputs": [],
   "source": []
  },
  {
   "cell_type": "code",
   "execution_count": null,
   "metadata": {
    "collapsed": true
   },
   "outputs": [],
   "source": [
    "# for here, try to look the rmse situation"
   ]
  },
  {
   "cell_type": "code",
   "execution_count": 38,
   "metadata": {
    "collapsed": true
   },
   "outputs": [],
   "source": [
    "model = LinearRegression()  \n",
    "results=model.fit(X_train, y_train)"
   ]
  },
  {
   "cell_type": "code",
   "execution_count": 39,
   "metadata": {},
   "outputs": [
    {
     "data": {
      "text/plain": [
       "LinearRegression(copy_X=True, fit_intercept=True, n_jobs=1, normalize=False)"
      ]
     },
     "execution_count": 39,
     "metadata": {},
     "output_type": "execute_result"
    }
   ],
   "source": [
    "# Create linear regression object\n",
    "linreg2 = LinearRegression()\n",
    "\n",
    "# Train the model using the training sets\n",
    "linreg2.fit(X_train,y_train)"
   ]
  },
  {
   "cell_type": "code",
   "execution_count": 40,
   "metadata": {},
   "outputs": [
    {
     "data": {
      "text/plain": [
       "0.32197877724539459"
      ]
     },
     "execution_count": 40,
     "metadata": {},
     "output_type": "execute_result"
    }
   ],
   "source": [
    "# Compute RMSE on all data\n",
    "y_pred = linreg2.predict(X_train)\n",
    "rmse = np.sqrt(metrics.mean_squared_error(y_train, y_pred))\n",
    "rmse"
   ]
  },
  {
   "cell_type": "code",
   "execution_count": 41,
   "metadata": {},
   "outputs": [
    {
     "data": {
      "text/plain": [
       "willRespond    0.117867\n",
       "dtype: float64"
      ]
     },
     "execution_count": 41,
     "metadata": {},
     "output_type": "execute_result"
    }
   ],
   "source": [
    "y_m=np.mean(y_train)\n",
    "y_m"
   ]
  },
  {
   "cell_type": "code",
   "execution_count": 42,
   "metadata": {},
   "outputs": [
    {
     "data": {
      "text/plain": [
       "willRespond    2.73172\n",
       "dtype: float64"
      ]
     },
     "execution_count": 42,
     "metadata": {},
     "output_type": "execute_result"
    }
   ],
   "source": [
    "rmse/y_m"
   ]
  },
  {
   "cell_type": "code",
   "execution_count": 43,
   "metadata": {},
   "outputs": [
    {
     "data": {
      "text/html": [
       "<table class=\"simpletable\">\n",
       "<caption>OLS Regression Results</caption>\n",
       "<tr>\n",
       "  <th>Dep. Variable:</th>       <td>willRespond</td>   <th>  R-squared:         </th> <td>   0.003</td>\n",
       "</tr>\n",
       "<tr>\n",
       "  <th>Model:</th>                   <td>OLS</td>       <th>  Adj. R-squared:    </th> <td>   0.002</td>\n",
       "</tr>\n",
       "<tr>\n",
       "  <th>Method:</th>             <td>Least Squares</td>  <th>  F-statistic:       </th> <td>   2.194</td>\n",
       "</tr>\n",
       "<tr>\n",
       "  <th>Date:</th>             <td>Wed, 18 Oct 2017</td> <th>  Prob (F-statistic):</th>  <td>0.0522</td> \n",
       "</tr>\n",
       "<tr>\n",
       "  <th>Time:</th>                 <td>18:01:36</td>     <th>  Log-Likelihood:    </th> <td> -1071.3</td>\n",
       "</tr>\n",
       "<tr>\n",
       "  <th>No. Observations:</th>      <td>  3750</td>      <th>  AIC:               </th> <td>   2155.</td>\n",
       "</tr>\n",
       "<tr>\n",
       "  <th>Df Residuals:</th>          <td>  3744</td>      <th>  BIC:               </th> <td>   2192.</td>\n",
       "</tr>\n",
       "<tr>\n",
       "  <th>Df Model:</th>              <td>     5</td>      <th>                     </th>     <td> </td>   \n",
       "</tr>\n",
       "<tr>\n",
       "  <th>Covariance Type:</th>      <td>nonrobust</td>    <th>                     </th>     <td> </td>   \n",
       "</tr>\n",
       "</table>\n",
       "<table class=\"simpletable\">\n",
       "<tr>\n",
       "      <td></td>         <th>coef</th>     <th>std err</th>      <th>t</th>      <th>P>|t|</th>  <th>[0.025</th>    <th>0.975]</th>  \n",
       "</tr>\n",
       "<tr>\n",
       "  <th>age</th>       <td>    0.0017</td> <td>    0.001</td> <td>    3.040</td> <td> 0.002</td> <td>    0.001</td> <td>    0.003</td>\n",
       "</tr>\n",
       "<tr>\n",
       "  <th>consconf</th>  <td>    0.0007</td> <td>    0.001</td> <td>    0.641</td> <td> 0.521</td> <td>   -0.002</td> <td>    0.003</td>\n",
       "</tr>\n",
       "<tr>\n",
       "  <th>marital_0</th> <td>   -0.0418</td> <td>    0.123</td> <td>   -0.340</td> <td> 0.734</td> <td>   -0.283</td> <td>    0.199</td>\n",
       "</tr>\n",
       "<tr>\n",
       "  <th>marital_1</th> <td>   -0.0326</td> <td>    0.122</td> <td>   -0.267</td> <td> 0.789</td> <td>   -0.272</td> <td>    0.207</td>\n",
       "</tr>\n",
       "<tr>\n",
       "  <th>marital_2</th> <td>   -0.0105</td> <td>    0.122</td> <td>   -0.086</td> <td> 0.932</td> <td>   -0.250</td> <td>    0.229</td>\n",
       "</tr>\n",
       "<tr>\n",
       "  <th>intercept</th> <td>    0.1062</td> <td>    0.135</td> <td>    0.786</td> <td> 0.432</td> <td>   -0.159</td> <td>    0.371</td>\n",
       "</tr>\n",
       "</table>\n",
       "<table class=\"simpletable\">\n",
       "<tr>\n",
       "  <th>Omnibus:</th>       <td>1653.657</td> <th>  Durbin-Watson:     </th> <td>   1.949</td>\n",
       "</tr>\n",
       "<tr>\n",
       "  <th>Prob(Omnibus):</th>  <td> 0.000</td>  <th>  Jarque-Bera (JB):  </th> <td>5515.291</td>\n",
       "</tr>\n",
       "<tr>\n",
       "  <th>Skew:</th>           <td> 2.361</td>  <th>  Prob(JB):          </th> <td>    0.00</td>\n",
       "</tr>\n",
       "<tr>\n",
       "  <th>Kurtosis:</th>       <td> 6.605</td>  <th>  Cond. No.          </th> <td>2.67e+03</td>\n",
       "</tr>\n",
       "</table>"
      ],
      "text/plain": [
       "<class 'statsmodels.iolib.summary.Summary'>\n",
       "\"\"\"\n",
       "                            OLS Regression Results                            \n",
       "==============================================================================\n",
       "Dep. Variable:            willRespond   R-squared:                       0.003\n",
       "Model:                            OLS   Adj. R-squared:                  0.002\n",
       "Method:                 Least Squares   F-statistic:                     2.194\n",
       "Date:                Wed, 18 Oct 2017   Prob (F-statistic):             0.0522\n",
       "Time:                        18:01:36   Log-Likelihood:                -1071.3\n",
       "No. Observations:                3750   AIC:                             2155.\n",
       "Df Residuals:                    3744   BIC:                             2192.\n",
       "Df Model:                           5                                         \n",
       "Covariance Type:            nonrobust                                         \n",
       "==============================================================================\n",
       "                 coef    std err          t      P>|t|      [0.025      0.975]\n",
       "------------------------------------------------------------------------------\n",
       "age            0.0017      0.001      3.040      0.002       0.001       0.003\n",
       "consconf       0.0007      0.001      0.641      0.521      -0.002       0.003\n",
       "marital_0     -0.0418      0.123     -0.340      0.734      -0.283       0.199\n",
       "marital_1     -0.0326      0.122     -0.267      0.789      -0.272       0.207\n",
       "marital_2     -0.0105      0.122     -0.086      0.932      -0.250       0.229\n",
       "intercept      0.1062      0.135      0.786      0.432      -0.159       0.371\n",
       "==============================================================================\n",
       "Omnibus:                     1653.657   Durbin-Watson:                   1.949\n",
       "Prob(Omnibus):                  0.000   Jarque-Bera (JB):             5515.291\n",
       "Skew:                           2.361   Prob(JB):                         0.00\n",
       "Kurtosis:                       6.605   Cond. No.                     2.67e+03\n",
       "==============================================================================\n",
       "\n",
       "Warnings:\n",
       "[1] Standard Errors assume that the covariance matrix of the errors is correctly specified.\n",
       "[2] The condition number is large, 2.67e+03. This might indicate that there are\n",
       "strong multicollinearity or other numerical problems.\n",
       "\"\"\""
      ]
     },
     "execution_count": 43,
     "metadata": {},
     "output_type": "execute_result"
    }
   ],
   "source": [
    "model = sm.OLS(y_train, X_train)\n",
    "results = model.fit()\n",
    "# Statsmodels gives R-like statistical output\n",
    "results.summary()"
   ]
  },
  {
   "cell_type": "code",
   "execution_count": 44,
   "metadata": {
    "collapsed": true
   },
   "outputs": [],
   "source": [
    "#AIC and BIC is lower than before"
   ]
  }
 ],
 "metadata": {
  "kernelspec": {
   "display_name": "Python 2",
   "language": "python",
   "name": "python2"
  },
  "language_info": {
   "codemirror_mode": {
    "name": "ipython",
    "version": 2
   },
   "file_extension": ".py",
   "mimetype": "text/x-python",
   "name": "python",
   "nbconvert_exporter": "python",
   "pygments_lexer": "ipython2",
   "version": "2.7.13"
  }
 },
 "nbformat": 4,
 "nbformat_minor": 2
}
